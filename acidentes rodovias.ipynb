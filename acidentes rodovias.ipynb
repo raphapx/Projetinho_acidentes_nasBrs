{
 "cells": [
  {
   "cell_type": "markdown",
   "metadata": {},
   "source": [
    "# Importações de libs e extracao de dataset"
   ]
  },
  {
   "cell_type": "code",
   "execution_count": 28,
   "metadata": {},
   "outputs": [],
   "source": [
    "import pandas as pd\n",
    "import numpy as np\n",
    "import matplotlib.pyplot as plt\n",
    "import seaborn as sns"
   ]
  },
  {
   "cell_type": "markdown",
   "metadata": {},
   "source": [
    "## Extração do dataset"
   ]
  },
  {
   "cell_type": "code",
   "execution_count": 2,
   "metadata": {},
   "outputs": [],
   "source": [
    "data = pd.read_csv('datatran2020.csv', encoding='ISO-8859-1', delimiter=';')"
   ]
  },
  {
   "cell_type": "markdown",
   "metadata": {},
   "source": [
    "# Analise exploratória"
   ]
  },
  {
   "cell_type": "code",
   "execution_count": 3,
   "metadata": {},
   "outputs": [
    {
     "data": {
      "text/html": [
       "<div>\n",
       "<style scoped>\n",
       "    .dataframe tbody tr th:only-of-type {\n",
       "        vertical-align: middle;\n",
       "    }\n",
       "\n",
       "    .dataframe tbody tr th {\n",
       "        vertical-align: top;\n",
       "    }\n",
       "\n",
       "    .dataframe thead th {\n",
       "        text-align: right;\n",
       "    }\n",
       "</style>\n",
       "<table border=\"1\" class=\"dataframe\">\n",
       "  <thead>\n",
       "    <tr style=\"text-align: right;\">\n",
       "      <th></th>\n",
       "      <th>id</th>\n",
       "      <th>data_inversa</th>\n",
       "      <th>dia_semana</th>\n",
       "      <th>horario</th>\n",
       "      <th>uf</th>\n",
       "      <th>br</th>\n",
       "      <th>km</th>\n",
       "      <th>municipio</th>\n",
       "      <th>causa_acidente</th>\n",
       "      <th>tipo_acidente</th>\n",
       "      <th>...</th>\n",
       "      <th>feridos_graves</th>\n",
       "      <th>ilesos</th>\n",
       "      <th>ignorados</th>\n",
       "      <th>feridos</th>\n",
       "      <th>veiculos</th>\n",
       "      <th>latitude</th>\n",
       "      <th>longitude</th>\n",
       "      <th>regional</th>\n",
       "      <th>delegacia</th>\n",
       "      <th>uop</th>\n",
       "    </tr>\n",
       "  </thead>\n",
       "  <tbody>\n",
       "    <tr>\n",
       "      <th>0</th>\n",
       "      <td>260031.0</td>\n",
       "      <td>2020-01-01</td>\n",
       "      <td>quarta-feira</td>\n",
       "      <td>01:00:00</td>\n",
       "      <td>TO</td>\n",
       "      <td>153.0</td>\n",
       "      <td>678,1</td>\n",
       "      <td>GURUPI</td>\n",
       "      <td>Animais na Pista</td>\n",
       "      <td>Atropelamento de Animal</td>\n",
       "      <td>...</td>\n",
       "      <td>5</td>\n",
       "      <td>0</td>\n",
       "      <td>0</td>\n",
       "      <td>5</td>\n",
       "      <td>1</td>\n",
       "      <td>-11,77460203</td>\n",
       "      <td>-49,10744996</td>\n",
       "      <td>SR-TO</td>\n",
       "      <td>UOP01/TO</td>\n",
       "      <td>NaN</td>\n",
       "    </tr>\n",
       "    <tr>\n",
       "      <th>1</th>\n",
       "      <td>260036.0</td>\n",
       "      <td>2020-01-01</td>\n",
       "      <td>quarta-feira</td>\n",
       "      <td>01:00:00</td>\n",
       "      <td>RJ</td>\n",
       "      <td>116.0</td>\n",
       "      <td>178</td>\n",
       "      <td>NOVA IGUACU</td>\n",
       "      <td>Falta de Atenção do Pedestre</td>\n",
       "      <td>Atropelamento de Pedestre</td>\n",
       "      <td>...</td>\n",
       "      <td>0</td>\n",
       "      <td>1</td>\n",
       "      <td>0</td>\n",
       "      <td>0</td>\n",
       "      <td>1</td>\n",
       "      <td>-22,75223028</td>\n",
       "      <td>-43,4379103</td>\n",
       "      <td>SR-RJ</td>\n",
       "      <td>DEL5/1</td>\n",
       "      <td>UOP02/RJ</td>\n",
       "    </tr>\n",
       "    <tr>\n",
       "      <th>2</th>\n",
       "      <td>260037.0</td>\n",
       "      <td>2020-01-01</td>\n",
       "      <td>quarta-feira</td>\n",
       "      <td>01:52:00</td>\n",
       "      <td>SC</td>\n",
       "      <td>101.0</td>\n",
       "      <td>206,9</td>\n",
       "      <td>SAO JOSE</td>\n",
       "      <td>Ingestão de Álcool</td>\n",
       "      <td>Colisão lateral</td>\n",
       "      <td>...</td>\n",
       "      <td>0</td>\n",
       "      <td>1</td>\n",
       "      <td>0</td>\n",
       "      <td>1</td>\n",
       "      <td>2</td>\n",
       "      <td>-27,59193546</td>\n",
       "      <td>-48,61824557</td>\n",
       "      <td>SR-SC</td>\n",
       "      <td>DEL8/1</td>\n",
       "      <td>UOP01/SC</td>\n",
       "    </tr>\n",
       "    <tr>\n",
       "      <th>3</th>\n",
       "      <td>260038.0</td>\n",
       "      <td>2020-01-01</td>\n",
       "      <td>quarta-feira</td>\n",
       "      <td>01:15:00</td>\n",
       "      <td>RO</td>\n",
       "      <td>364.0</td>\n",
       "      <td>236</td>\n",
       "      <td>CACOAL</td>\n",
       "      <td>Velocidade Incompatível</td>\n",
       "      <td>Saída de leito carroçável</td>\n",
       "      <td>...</td>\n",
       "      <td>1</td>\n",
       "      <td>0</td>\n",
       "      <td>0</td>\n",
       "      <td>1</td>\n",
       "      <td>1</td>\n",
       "      <td>-11,44624577</td>\n",
       "      <td>-61,43761218</td>\n",
       "      <td>SR-RO</td>\n",
       "      <td>DEL21/2</td>\n",
       "      <td>UOP02/RO</td>\n",
       "    </tr>\n",
       "    <tr>\n",
       "      <th>4</th>\n",
       "      <td>260039.0</td>\n",
       "      <td>2020-01-01</td>\n",
       "      <td>quarta-feira</td>\n",
       "      <td>01:30:00</td>\n",
       "      <td>PR</td>\n",
       "      <td>153.0</td>\n",
       "      <td>360</td>\n",
       "      <td>REBOUCAS</td>\n",
       "      <td>Ingestão de Álcool</td>\n",
       "      <td>Capotamento</td>\n",
       "      <td>...</td>\n",
       "      <td>4</td>\n",
       "      <td>0</td>\n",
       "      <td>0</td>\n",
       "      <td>6</td>\n",
       "      <td>1</td>\n",
       "      <td>-25,67503796</td>\n",
       "      <td>-50,75089805</td>\n",
       "      <td>SR-PR</td>\n",
       "      <td>DEL7/3</td>\n",
       "      <td>UOP04/PR</td>\n",
       "    </tr>\n",
       "  </tbody>\n",
       "</table>\n",
       "<p>5 rows × 30 columns</p>\n",
       "</div>"
      ],
      "text/plain": [
       "         id data_inversa    dia_semana   horario  uf     br     km  \\\n",
       "0  260031.0   2020-01-01  quarta-feira  01:00:00  TO  153.0  678,1   \n",
       "1  260036.0   2020-01-01  quarta-feira  01:00:00  RJ  116.0    178   \n",
       "2  260037.0   2020-01-01  quarta-feira  01:52:00  SC  101.0  206,9   \n",
       "3  260038.0   2020-01-01  quarta-feira  01:15:00  RO  364.0    236   \n",
       "4  260039.0   2020-01-01  quarta-feira  01:30:00  PR  153.0    360   \n",
       "\n",
       "     municipio                causa_acidente              tipo_acidente  ...  \\\n",
       "0       GURUPI              Animais na Pista    Atropelamento de Animal  ...   \n",
       "1  NOVA IGUACU  Falta de Atenção do Pedestre  Atropelamento de Pedestre  ...   \n",
       "2     SAO JOSE            Ingestão de Álcool            Colisão lateral  ...   \n",
       "3       CACOAL       Velocidade Incompatível  Saída de leito carroçável  ...   \n",
       "4     REBOUCAS            Ingestão de Álcool                Capotamento  ...   \n",
       "\n",
       "  feridos_graves ilesos ignorados feridos veiculos      latitude  \\\n",
       "0              5      0         0       5        1  -11,77460203   \n",
       "1              0      1         0       0        1  -22,75223028   \n",
       "2              0      1         0       1        2  -27,59193546   \n",
       "3              1      0         0       1        1  -11,44624577   \n",
       "4              4      0         0       6        1  -25,67503796   \n",
       "\n",
       "      longitude  regional  delegacia       uop  \n",
       "0  -49,10744996     SR-TO   UOP01/TO       NaN  \n",
       "1   -43,4379103     SR-RJ     DEL5/1  UOP02/RJ  \n",
       "2  -48,61824557     SR-SC     DEL8/1  UOP01/SC  \n",
       "3  -61,43761218     SR-RO    DEL21/2  UOP02/RO  \n",
       "4  -50,75089805     SR-PR     DEL7/3  UOP04/PR  \n",
       "\n",
       "[5 rows x 30 columns]"
      ]
     },
     "execution_count": 3,
     "metadata": {},
     "output_type": "execute_result"
    }
   ],
   "source": [
    "#Explorando as 5 primeiras linhas\n",
    "data.head(5)"
   ]
  },
  {
   "cell_type": "code",
   "execution_count": 4,
   "metadata": {},
   "outputs": [
    {
     "name": "stdout",
     "output_type": "stream",
     "text": [
      "<class 'pandas.core.frame.DataFrame'>\n",
      "RangeIndex: 63548 entries, 0 to 63547\n",
      "Data columns (total 30 columns):\n",
      " #   Column                  Non-Null Count  Dtype  \n",
      "---  ------                  --------------  -----  \n",
      " 0   id                      63548 non-null  float64\n",
      " 1   data_inversa            63548 non-null  object \n",
      " 2   dia_semana              63548 non-null  object \n",
      " 3   horario                 63548 non-null  object \n",
      " 4   uf                      63548 non-null  object \n",
      " 5   br                      63390 non-null  float64\n",
      " 6   km                      63390 non-null  object \n",
      " 7   municipio               63548 non-null  object \n",
      " 8   causa_acidente          63548 non-null  object \n",
      " 9   tipo_acidente           63548 non-null  object \n",
      " 10  classificacao_acidente  63548 non-null  object \n",
      " 11  fase_dia                63548 non-null  object \n",
      " 12  sentido_via             63548 non-null  object \n",
      " 13  condicao_metereologica  63548 non-null  object \n",
      " 14  tipo_pista              63548 non-null  object \n",
      " 15  tracado_via             63548 non-null  object \n",
      " 16  uso_solo                63548 non-null  object \n",
      " 17  pessoas                 63548 non-null  int64  \n",
      " 18  mortos                  63548 non-null  int64  \n",
      " 19  feridos_leves           63548 non-null  int64  \n",
      " 20  feridos_graves          63548 non-null  int64  \n",
      " 21  ilesos                  63548 non-null  int64  \n",
      " 22  ignorados               63548 non-null  int64  \n",
      " 23  feridos                 63548 non-null  int64  \n",
      " 24  veiculos                63548 non-null  int64  \n",
      " 25  latitude                63548 non-null  object \n",
      " 26  longitude               63548 non-null  object \n",
      " 27  regional                63548 non-null  object \n",
      " 28  delegacia               63548 non-null  object \n",
      " 29  uop                     63149 non-null  object \n",
      "dtypes: float64(2), int64(8), object(20)\n",
      "memory usage: 14.5+ MB\n"
     ]
    }
   ],
   "source": [
    "#Checando o scheema.\n",
    "# Identificado que a coluna BR deveria ser strings, já que menciona numeros das Rodovias BR.\n",
    "data.info()"
   ]
  },
  {
   "cell_type": "code",
   "execution_count": 5,
   "metadata": {},
   "outputs": [],
   "source": [
    "#Convertido coluna br toda para inteiro e depois string.\n",
    "data['br'] = data['br'].astype(str)"
   ]
  },
  {
   "cell_type": "code",
   "execution_count": 6,
   "metadata": {},
   "outputs": [
    {
     "data": {
      "text/html": [
       "<div>\n",
       "<style scoped>\n",
       "    .dataframe tbody tr th:only-of-type {\n",
       "        vertical-align: middle;\n",
       "    }\n",
       "\n",
       "    .dataframe tbody tr th {\n",
       "        vertical-align: top;\n",
       "    }\n",
       "\n",
       "    .dataframe thead th {\n",
       "        text-align: right;\n",
       "    }\n",
       "</style>\n",
       "<table border=\"1\" class=\"dataframe\">\n",
       "  <thead>\n",
       "    <tr style=\"text-align: right;\">\n",
       "      <th></th>\n",
       "      <th>id</th>\n",
       "      <th>pessoas</th>\n",
       "      <th>mortos</th>\n",
       "      <th>feridos_leves</th>\n",
       "      <th>feridos_graves</th>\n",
       "      <th>ilesos</th>\n",
       "      <th>ignorados</th>\n",
       "      <th>feridos</th>\n",
       "      <th>veiculos</th>\n",
       "    </tr>\n",
       "  </thead>\n",
       "  <tbody>\n",
       "    <tr>\n",
       "      <th>count</th>\n",
       "      <td>63548.000000</td>\n",
       "      <td>63548.000000</td>\n",
       "      <td>63548.000000</td>\n",
       "      <td>63548.000000</td>\n",
       "      <td>63548.000000</td>\n",
       "      <td>63548.000000</td>\n",
       "      <td>63548.000000</td>\n",
       "      <td>63548.000000</td>\n",
       "      <td>63548.000000</td>\n",
       "    </tr>\n",
       "    <tr>\n",
       "      <th>mean</th>\n",
       "      <td>296567.776972</td>\n",
       "      <td>2.323881</td>\n",
       "      <td>0.083260</td>\n",
       "      <td>0.855668</td>\n",
       "      <td>0.269151</td>\n",
       "      <td>0.957670</td>\n",
       "      <td>0.158132</td>\n",
       "      <td>1.124819</td>\n",
       "      <td>1.634151</td>\n",
       "    </tr>\n",
       "    <tr>\n",
       "      <th>std</th>\n",
       "      <td>21063.404634</td>\n",
       "      <td>1.709789</td>\n",
       "      <td>0.339825</td>\n",
       "      <td>1.009095</td>\n",
       "      <td>0.600020</td>\n",
       "      <td>1.342541</td>\n",
       "      <td>0.436503</td>\n",
       "      <td>1.113988</td>\n",
       "      <td>0.724907</td>\n",
       "    </tr>\n",
       "    <tr>\n",
       "      <th>min</th>\n",
       "      <td>260031.000000</td>\n",
       "      <td>1.000000</td>\n",
       "      <td>0.000000</td>\n",
       "      <td>0.000000</td>\n",
       "      <td>0.000000</td>\n",
       "      <td>0.000000</td>\n",
       "      <td>0.000000</td>\n",
       "      <td>0.000000</td>\n",
       "      <td>1.000000</td>\n",
       "    </tr>\n",
       "    <tr>\n",
       "      <th>25%</th>\n",
       "      <td>278493.750000</td>\n",
       "      <td>1.000000</td>\n",
       "      <td>0.000000</td>\n",
       "      <td>0.000000</td>\n",
       "      <td>0.000000</td>\n",
       "      <td>0.000000</td>\n",
       "      <td>0.000000</td>\n",
       "      <td>1.000000</td>\n",
       "      <td>1.000000</td>\n",
       "    </tr>\n",
       "    <tr>\n",
       "      <th>50%</th>\n",
       "      <td>296586.500000</td>\n",
       "      <td>2.000000</td>\n",
       "      <td>0.000000</td>\n",
       "      <td>1.000000</td>\n",
       "      <td>0.000000</td>\n",
       "      <td>1.000000</td>\n",
       "      <td>0.000000</td>\n",
       "      <td>1.000000</td>\n",
       "      <td>2.000000</td>\n",
       "    </tr>\n",
       "    <tr>\n",
       "      <th>75%</th>\n",
       "      <td>314604.250000</td>\n",
       "      <td>3.000000</td>\n",
       "      <td>0.000000</td>\n",
       "      <td>1.000000</td>\n",
       "      <td>0.000000</td>\n",
       "      <td>1.000000</td>\n",
       "      <td>0.000000</td>\n",
       "      <td>1.000000</td>\n",
       "      <td>2.000000</td>\n",
       "    </tr>\n",
       "    <tr>\n",
       "      <th>max</th>\n",
       "      <td>364903.000000</td>\n",
       "      <td>73.000000</td>\n",
       "      <td>13.000000</td>\n",
       "      <td>42.000000</td>\n",
       "      <td>19.000000</td>\n",
       "      <td>73.000000</td>\n",
       "      <td>11.000000</td>\n",
       "      <td>44.000000</td>\n",
       "      <td>23.000000</td>\n",
       "    </tr>\n",
       "  </tbody>\n",
       "</table>\n",
       "</div>"
      ],
      "text/plain": [
       "                  id       pessoas        mortos  feridos_leves  \\\n",
       "count   63548.000000  63548.000000  63548.000000   63548.000000   \n",
       "mean   296567.776972      2.323881      0.083260       0.855668   \n",
       "std     21063.404634      1.709789      0.339825       1.009095   \n",
       "min    260031.000000      1.000000      0.000000       0.000000   \n",
       "25%    278493.750000      1.000000      0.000000       0.000000   \n",
       "50%    296586.500000      2.000000      0.000000       1.000000   \n",
       "75%    314604.250000      3.000000      0.000000       1.000000   \n",
       "max    364903.000000     73.000000     13.000000      42.000000   \n",
       "\n",
       "       feridos_graves        ilesos     ignorados       feridos      veiculos  \n",
       "count    63548.000000  63548.000000  63548.000000  63548.000000  63548.000000  \n",
       "mean         0.269151      0.957670      0.158132      1.124819      1.634151  \n",
       "std          0.600020      1.342541      0.436503      1.113988      0.724907  \n",
       "min          0.000000      0.000000      0.000000      0.000000      1.000000  \n",
       "25%          0.000000      0.000000      0.000000      1.000000      1.000000  \n",
       "50%          0.000000      1.000000      0.000000      1.000000      2.000000  \n",
       "75%          0.000000      1.000000      0.000000      1.000000      2.000000  \n",
       "max         19.000000     73.000000     11.000000     44.000000     23.000000  "
      ]
     },
     "execution_count": 6,
     "metadata": {},
     "output_type": "execute_result"
    }
   ],
   "source": [
    "#Dados estatisticos de colunas numericas\n",
    "data.describe()"
   ]
  },
  {
   "cell_type": "markdown",
   "metadata": {},
   "source": [
    "# 5 Rodovias com mais acidentes"
   ]
  },
  {
   "cell_type": "code",
   "execution_count": 7,
   "metadata": {},
   "outputs": [
    {
     "data": {
      "text/plain": [
       "br\n",
       "101.0    10535\n",
       "116.0     9156\n",
       "381.0     3031\n",
       "40.0      3021\n",
       "153.0     2547\n",
       "Name: count, dtype: int64"
      ]
     },
     "execution_count": 7,
     "metadata": {},
     "output_type": "execute_result"
    }
   ],
   "source": [
    "#Extracao das 5 rodovias com mais acidentes\n",
    "data['br'].value_counts().head(5)"
   ]
  },
  {
   "cell_type": "code",
   "execution_count": 8,
   "metadata": {},
   "outputs": [
    {
     "data": {
      "text/html": [
       "<div>\n",
       "<style scoped>\n",
       "    .dataframe tbody tr th:only-of-type {\n",
       "        vertical-align: middle;\n",
       "    }\n",
       "\n",
       "    .dataframe tbody tr th {\n",
       "        vertical-align: top;\n",
       "    }\n",
       "\n",
       "    .dataframe thead th {\n",
       "        text-align: right;\n",
       "    }\n",
       "</style>\n",
       "<table border=\"1\" class=\"dataframe\">\n",
       "  <thead>\n",
       "    <tr style=\"text-align: right;\">\n",
       "      <th></th>\n",
       "      <th>id</th>\n",
       "      <th>data_inversa</th>\n",
       "      <th>dia_semana</th>\n",
       "      <th>horario</th>\n",
       "      <th>uf</th>\n",
       "      <th>br</th>\n",
       "      <th>km</th>\n",
       "      <th>municipio</th>\n",
       "      <th>causa_acidente</th>\n",
       "      <th>tipo_acidente</th>\n",
       "      <th>...</th>\n",
       "      <th>feridos_graves</th>\n",
       "      <th>ilesos</th>\n",
       "      <th>ignorados</th>\n",
       "      <th>feridos</th>\n",
       "      <th>veiculos</th>\n",
       "      <th>latitude</th>\n",
       "      <th>longitude</th>\n",
       "      <th>regional</th>\n",
       "      <th>delegacia</th>\n",
       "      <th>uop</th>\n",
       "    </tr>\n",
       "  </thead>\n",
       "  <tbody>\n",
       "    <tr>\n",
       "      <th>0</th>\n",
       "      <td>260031.0</td>\n",
       "      <td>2020-01-01</td>\n",
       "      <td>quarta-feira</td>\n",
       "      <td>01:00:00</td>\n",
       "      <td>TO</td>\n",
       "      <td>153.0</td>\n",
       "      <td>678,1</td>\n",
       "      <td>GURUPI</td>\n",
       "      <td>Animais na Pista</td>\n",
       "      <td>Atropelamento de Animal</td>\n",
       "      <td>...</td>\n",
       "      <td>5</td>\n",
       "      <td>0</td>\n",
       "      <td>0</td>\n",
       "      <td>5</td>\n",
       "      <td>1</td>\n",
       "      <td>-11,77460203</td>\n",
       "      <td>-49,10744996</td>\n",
       "      <td>SR-TO</td>\n",
       "      <td>UOP01/TO</td>\n",
       "      <td>NaN</td>\n",
       "    </tr>\n",
       "    <tr>\n",
       "      <th>1</th>\n",
       "      <td>260036.0</td>\n",
       "      <td>2020-01-01</td>\n",
       "      <td>quarta-feira</td>\n",
       "      <td>01:00:00</td>\n",
       "      <td>RJ</td>\n",
       "      <td>116.0</td>\n",
       "      <td>178</td>\n",
       "      <td>NOVA IGUACU</td>\n",
       "      <td>Falta de Atenção do Pedestre</td>\n",
       "      <td>Atropelamento de Pedestre</td>\n",
       "      <td>...</td>\n",
       "      <td>0</td>\n",
       "      <td>1</td>\n",
       "      <td>0</td>\n",
       "      <td>0</td>\n",
       "      <td>1</td>\n",
       "      <td>-22,75223028</td>\n",
       "      <td>-43,4379103</td>\n",
       "      <td>SR-RJ</td>\n",
       "      <td>DEL5/1</td>\n",
       "      <td>UOP02/RJ</td>\n",
       "    </tr>\n",
       "    <tr>\n",
       "      <th>2</th>\n",
       "      <td>260037.0</td>\n",
       "      <td>2020-01-01</td>\n",
       "      <td>quarta-feira</td>\n",
       "      <td>01:52:00</td>\n",
       "      <td>SC</td>\n",
       "      <td>101.0</td>\n",
       "      <td>206,9</td>\n",
       "      <td>SAO JOSE</td>\n",
       "      <td>Ingestão de Álcool</td>\n",
       "      <td>Colisão lateral</td>\n",
       "      <td>...</td>\n",
       "      <td>0</td>\n",
       "      <td>1</td>\n",
       "      <td>0</td>\n",
       "      <td>1</td>\n",
       "      <td>2</td>\n",
       "      <td>-27,59193546</td>\n",
       "      <td>-48,61824557</td>\n",
       "      <td>SR-SC</td>\n",
       "      <td>DEL8/1</td>\n",
       "      <td>UOP01/SC</td>\n",
       "    </tr>\n",
       "    <tr>\n",
       "      <th>4</th>\n",
       "      <td>260039.0</td>\n",
       "      <td>2020-01-01</td>\n",
       "      <td>quarta-feira</td>\n",
       "      <td>01:30:00</td>\n",
       "      <td>PR</td>\n",
       "      <td>153.0</td>\n",
       "      <td>360</td>\n",
       "      <td>REBOUCAS</td>\n",
       "      <td>Ingestão de Álcool</td>\n",
       "      <td>Capotamento</td>\n",
       "      <td>...</td>\n",
       "      <td>4</td>\n",
       "      <td>0</td>\n",
       "      <td>0</td>\n",
       "      <td>6</td>\n",
       "      <td>1</td>\n",
       "      <td>-25,67503796</td>\n",
       "      <td>-50,75089805</td>\n",
       "      <td>SR-PR</td>\n",
       "      <td>DEL7/3</td>\n",
       "      <td>UOP04/PR</td>\n",
       "    </tr>\n",
       "    <tr>\n",
       "      <th>6</th>\n",
       "      <td>260041.0</td>\n",
       "      <td>2020-01-01</td>\n",
       "      <td>quarta-feira</td>\n",
       "      <td>02:20:00</td>\n",
       "      <td>SC</td>\n",
       "      <td>101.0</td>\n",
       "      <td>89,9</td>\n",
       "      <td>BARRA VELHA</td>\n",
       "      <td>Falta de Atenção à Condução</td>\n",
       "      <td>Colisão com objeto estático</td>\n",
       "      <td>...</td>\n",
       "      <td>0</td>\n",
       "      <td>1</td>\n",
       "      <td>0</td>\n",
       "      <td>0</td>\n",
       "      <td>1</td>\n",
       "      <td>-26,66327987</td>\n",
       "      <td>-48,68898153</td>\n",
       "      <td>SR-SC</td>\n",
       "      <td>DEL8/3</td>\n",
       "      <td>UOP02/SC</td>\n",
       "    </tr>\n",
       "  </tbody>\n",
       "</table>\n",
       "<p>5 rows × 30 columns</p>\n",
       "</div>"
      ],
      "text/plain": [
       "         id data_inversa    dia_semana   horario  uf     br     km  \\\n",
       "0  260031.0   2020-01-01  quarta-feira  01:00:00  TO  153.0  678,1   \n",
       "1  260036.0   2020-01-01  quarta-feira  01:00:00  RJ  116.0    178   \n",
       "2  260037.0   2020-01-01  quarta-feira  01:52:00  SC  101.0  206,9   \n",
       "4  260039.0   2020-01-01  quarta-feira  01:30:00  PR  153.0    360   \n",
       "6  260041.0   2020-01-01  quarta-feira  02:20:00  SC  101.0   89,9   \n",
       "\n",
       "     municipio                causa_acidente                tipo_acidente  \\\n",
       "0       GURUPI              Animais na Pista      Atropelamento de Animal   \n",
       "1  NOVA IGUACU  Falta de Atenção do Pedestre    Atropelamento de Pedestre   \n",
       "2     SAO JOSE            Ingestão de Álcool              Colisão lateral   \n",
       "4     REBOUCAS            Ingestão de Álcool                  Capotamento   \n",
       "6  BARRA VELHA   Falta de Atenção à Condução  Colisão com objeto estático   \n",
       "\n",
       "   ... feridos_graves ilesos ignorados feridos veiculos      latitude  \\\n",
       "0  ...              5      0         0       5        1  -11,77460203   \n",
       "1  ...              0      1         0       0        1  -22,75223028   \n",
       "2  ...              0      1         0       1        2  -27,59193546   \n",
       "4  ...              4      0         0       6        1  -25,67503796   \n",
       "6  ...              0      1         0       0        1  -26,66327987   \n",
       "\n",
       "      longitude  regional  delegacia       uop  \n",
       "0  -49,10744996     SR-TO   UOP01/TO       NaN  \n",
       "1   -43,4379103     SR-RJ     DEL5/1  UOP02/RJ  \n",
       "2  -48,61824557     SR-SC     DEL8/1  UOP01/SC  \n",
       "4  -50,75089805     SR-PR     DEL7/3  UOP04/PR  \n",
       "6  -48,68898153     SR-SC     DEL8/3  UOP02/SC  \n",
       "\n",
       "[5 rows x 30 columns]"
      ]
     },
     "execution_count": 8,
     "metadata": {},
     "output_type": "execute_result"
    }
   ],
   "source": [
    "rodovias_selecionadas = ['101.0', '116.0', '40.0', '381.0', '153.0']\n",
    "data_top_brs = data[data['br'].isin(rodovias_selecionadas)]\n",
    "data_top_brs.head()"
   ]
  },
  {
   "cell_type": "code",
   "execution_count": 9,
   "metadata": {},
   "outputs": [
    {
     "name": "stdout",
     "output_type": "stream",
     "text": [
      "      br  contagem\n",
      "0  101.0     10535\n",
      "1  116.0      9156\n",
      "3  381.0      3031\n",
      "4   40.0      3021\n",
      "2  153.0      2547\n"
     ]
    }
   ],
   "source": [
    "#Agrupado pelas 5 brs com mais acidente e por tipo de acidente.\n",
    "top5_brs_counts = data_top_brs.groupby(['br']).size().reset_index(name='contagem').sort_values('contagem', ascending=False)\n",
    "print(top5_brs_counts)"
   ]
  },
  {
   "cell_type": "code",
   "execution_count": 10,
   "metadata": {},
   "outputs": [
    {
     "data": {
      "text/plain": [
       "Text(0.5, 0, 'Rodovias (Brs)')"
      ]
     },
     "execution_count": 10,
     "metadata": {},
     "output_type": "execute_result"
    },
    {
     "data": {
      "image/png": "[encoded data removed]",
      "text/plain": [
       "<Figure size 640x480 with 1 Axes>"
      ]
     },
     "metadata": {},
     "output_type": "display_data"
    }
   ],
   "source": [
    "top5_brs_counts.plot.bar(x='br', y='contagem', label='Total de Acidentes')\n",
    "plt.xlabel('Rodovias (Brs)')"
   ]
  },
  {
   "cell_type": "code",
   "execution_count": null,
   "metadata": {},
   "outputs": [],
   "source": []
  },
  {
   "cell_type": "markdown",
   "metadata": {},
   "source": [
    "# Acidentes por mês"
   ]
  },
  {
   "cell_type": "code",
   "execution_count": 11,
   "metadata": {},
   "outputs": [],
   "source": [
    "#Convertendo a coluna para datetime.\n",
    "data['data_inversa'] = pd.to_datetime(data['data_inversa'], format='%Y-%m-%d')"
   ]
  },
  {
   "cell_type": "code",
   "execution_count": 12,
   "metadata": {},
   "outputs": [
    {
     "name": "stdout",
     "output_type": "stream",
     "text": [
      "<class 'pandas.core.frame.DataFrame'>\n",
      "RangeIndex: 63548 entries, 0 to 63547\n",
      "Data columns (total 30 columns):\n",
      " #   Column                  Non-Null Count  Dtype         \n",
      "---  ------                  --------------  -----         \n",
      " 0   id                      63548 non-null  float64       \n",
      " 1   data_inversa            63548 non-null  datetime64[ns]\n",
      " 2   dia_semana              63548 non-null  object        \n",
      " 3   horario                 63548 non-null  object        \n",
      " 4   uf                      63548 non-null  object        \n",
      " 5   br                      63548 non-null  object        \n",
      " 6   km                      63390 non-null  object        \n",
      " 7   municipio               63548 non-null  object        \n",
      " 8   causa_acidente          63548 non-null  object        \n",
      " 9   tipo_acidente           63548 non-null  object        \n",
      " 10  classificacao_acidente  63548 non-null  object        \n",
      " 11  fase_dia                63548 non-null  object        \n",
      " 12  sentido_via             63548 non-null  object        \n",
      " 13  condicao_metereologica  63548 non-null  object        \n",
      " 14  tipo_pista              63548 non-null  object        \n",
      " 15  tracado_via             63548 non-null  object        \n",
      " 16  uso_solo                63548 non-null  object        \n",
      " 17  pessoas                 63548 non-null  int64         \n",
      " 18  mortos                  63548 non-null  int64         \n",
      " 19  feridos_leves           63548 non-null  int64         \n",
      " 20  feridos_graves          63548 non-null  int64         \n",
      " 21  ilesos                  63548 non-null  int64         \n",
      " 22  ignorados               63548 non-null  int64         \n",
      " 23  feridos                 63548 non-null  int64         \n",
      " 24  veiculos                63548 non-null  int64         \n",
      " 25  latitude                63548 non-null  object        \n",
      " 26  longitude               63548 non-null  object        \n",
      " 27  regional                63548 non-null  object        \n",
      " 28  delegacia               63548 non-null  object        \n",
      " 29  uop                     63149 non-null  object        \n",
      "dtypes: datetime64[ns](1), float64(1), int64(8), object(20)\n",
      "memory usage: 14.5+ MB\n"
     ]
    }
   ],
   "source": [
    "#Conferindo se houve a conversão\n",
    "data.info()"
   ]
  },
  {
   "cell_type": "code",
   "execution_count": 13,
   "metadata": {},
   "outputs": [],
   "source": [
    "#Criando a coluna mês com base na coluna data inversa\n",
    "data['mes'] = data['data_inversa'].dt.to_period('M')"
   ]
  },
  {
   "cell_type": "code",
   "execution_count": 16,
   "metadata": {},
   "outputs": [
    {
     "name": "stdout",
     "output_type": "stream",
     "text": [
      "        mes  contagem\n",
      "0   2020-01      5497\n",
      "1   2020-02      5467\n",
      "2   2020-03      4790\n",
      "3   2020-04      3883\n",
      "4   2020-05      4657\n",
      "5   2020-06      4734\n",
      "6   2020-07      5127\n",
      "7   2020-08      5643\n",
      "8   2020-09      5689\n",
      "9   2020-10      6120\n",
      "10  2020-11      5745\n",
      "11  2020-12      6196\n"
     ]
    }
   ],
   "source": [
    "#separando os dados para o grafico de linha\n",
    "mes_count_acidente = data.groupby(['mes']).size().reset_index(name='contagem')\n",
    "print(mes_count_acidente)"
   ]
  },
  {
   "cell_type": "code",
   "execution_count": 27,
   "metadata": {},
   "outputs": [
    {
     "data": {
      "text/plain": [
       "<Axes: xlabel='mes'>"
      ]
     },
     "execution_count": 27,
     "metadata": {},
     "output_type": "execute_result"
    },
    {
     "data": {
      "image/png": "[encoded data removed]",
      "text/plain": [
       "<Figure size 1500x600 with 1 Axes>"
      ]
     },
     "metadata": {},
     "output_type": "display_data"
    }
   ],
   "source": [
    "mes_count_acidente.plot(kind='line', x='mes', y='contagem', figsize=(15, 6), marker='o', grid=True, label='Acidentes nas Brs')\n"
   ]
  },
  {
   "cell_type": "markdown",
   "metadata": {},
   "source": [
    "# Mapa de calor de acidentes nos Estados"
   ]
  },
  {
   "cell_type": "code",
   "execution_count": 34,
   "metadata": {},
   "outputs": [
    {
     "name": "stdout",
     "output_type": "stream",
     "text": [
      "    uf  acidentes\n",
      "0   AC        300\n",
      "1   AL        628\n",
      "2   AM        138\n",
      "3   AP        155\n",
      "4   BA       3456\n",
      "5   CE       1571\n",
      "6   DF       1040\n",
      "7   ES       2534\n",
      "8   GO       3228\n",
      "9   MA       1154\n",
      "10  MG       8374\n",
      "11  MS       1540\n",
      "12  MT       2195\n",
      "13  PA        963\n",
      "14  PB       1401\n",
      "15  PE       2560\n",
      "16  PI       1203\n",
      "17  PR       7190\n",
      "18  RJ       4236\n",
      "19  RN       1337\n",
      "20  RO       1486\n",
      "21  RR        250\n",
      "22  RS       4176\n",
      "23  SC       7220\n",
      "24  SE        575\n",
      "25  SP       4043\n",
      "26  TO        595\n"
     ]
    }
   ],
   "source": [
    "acidentes_estado = data.groupby('uf').size().reset_index(name='acidentes')\n",
    "print(acidentes_estado)"
   ]
  },
  {
   "cell_type": "code",
   "execution_count": 49,
   "metadata": {},
   "outputs": [
    {
     "data": {
      "text/plain": [
       "Text(0.5, 1.0, 'Acidentes por estados')"
      ]
     },
     "execution_count": 49,
     "metadata": {},
     "output_type": "execute_result"
    },
    {
     "data": {
      "image/png": "[encoded data removed]",
      "text/plain": [
       "<Figure size 800x1000 with 2 Axes>"
      ]
     },
     "metadata": {},
     "output_type": "display_data"
    }
   ],
   "source": [
    "pivot_acidentes_estado = acidentes_estado.pivot_table(values='acidentes', index='uf')\n",
    "plt.figure(figsize=(8, 10))\n",
    "heatmap_estados = sns.heatmap(pivot_acidentes_estado, annot=True, fmt='.2f', cmap='coolwarm')\n",
    "heatmap_estados.set_title('Acidentes por estados')"
   ]
  },
  {
   "cell_type": "code",
   "execution_count": null,
   "metadata": {},
   "outputs": [],
   "source": []
  }
 ],
 "metadata": {
  "kernelspec": {
   "display_name": "Python 3",
   "language": "python",
   "name": "python3"
  },
  "language_info": {
   "codemirror_mode": {
    "name": "ipython",
    "version": 3
   },
   "file_extension": ".py",
   "mimetype": "text/x-python",
   "name": "python",
   "nbconvert_exporter": "python",
   "pygments_lexer": "ipython3",
   "version": "3.12.0"
  }
 },
 "nbformat": 4,
 "nbformat_minor": 2
}
